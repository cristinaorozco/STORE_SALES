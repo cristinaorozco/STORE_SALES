{
 "cells": [
  {
   "cell_type": "markdown",
   "metadata": {},
   "source": [
    "# PREDICTING SALES"
   ]
  },
  {
   "cell_type": "code",
   "execution_count": null,
   "metadata": {},
   "outputs": [],
   "source": [
    "The marketing team asks us to predict an estimate of sales if 600 people enter our store in a week."
   ]
  },
  {
   "cell_type": "markdown",
   "metadata": {},
   "source": [
    "Let's import our dataset"
   ]
  },
  {
   "cell_type": "code",
   "execution_count": 3,
   "metadata": {},
   "outputs": [],
   "source": [
    "import pandas as pd\n",
    "data_store = pd.read_excel(\"C:/Users/CRISTINA/Documents/PORTFOLIO/Project store sales/Store sales.xlsx\")"
   ]
  },
  {
   "cell_type": "markdown",
   "metadata": {},
   "source": [
    "Let's see the size of our dataset"
   ]
  },
  {
   "cell_type": "code",
   "execution_count": 4,
   "metadata": {},
   "outputs": [
    {
     "name": "stdout",
     "output_type": "stream",
     "text": [
      "(36, 2)\n"
     ]
    }
   ],
   "source": [
    "print(data_store.shape)"
   ]
  },
  {
   "cell_type": "markdown",
   "metadata": {},
   "source": [
    "Let's see part of the content of our dataset to know it"
   ]
  },
  {
   "cell_type": "code",
   "execution_count": 5,
   "metadata": {},
   "outputs": [
    {
     "name": "stdout",
     "output_type": "stream",
     "text": [
      "   No. Of Customers  Weekly Sales\n",
      "0               418       3446.88\n",
      "1               332       2674.35\n",
      "2               216       1900.00\n",
      "3               254       1994.50\n",
      "4               316       2606.25\n",
      "5               374       3076.75\n",
      "6               397       3481.88\n",
      "7               513       5020.75\n",
      "8               352       3945.75\n",
      "9               209       2169.00\n"
     ]
    }
   ],
   "source": [
    "print(data_store.head(10))"
   ]
  },
  {
   "cell_type": "code",
   "execution_count": 6,
   "metadata": {},
   "outputs": [
    {
     "name": "stdout",
     "output_type": "stream",
     "text": [
      "       No. Of Customers  Weekly Sales\n",
      "count         36.000000     36.000000\n",
      "mean         250.527778   1924.315278\n",
      "std          136.144143   1397.355819\n",
      "min           50.000000    194.750000\n",
      "25%          148.500000    810.362500\n",
      "50%          227.000000   1377.075000\n",
      "75%          367.250000   2838.437500\n",
      "max          513.000000   5020.750000\n"
     ]
    }
   ],
   "source": [
    "print(data_store.describe())"
   ]
  },
  {
   "cell_type": "markdown",
   "metadata": {},
   "source": [
    "When executing the previous function, we note that the lowest value of weekly sales during the analyzed period \n",
    "was 194,75 and the highest value was 5020,75"
   ]
  },
  {
   "cell_type": "markdown",
   "metadata": {},
   "source": [
    "Let's verify that there is a correlation between the number of customers that enter our store and sales"
   ]
  },
  {
   "cell_type": "code",
   "execution_count": 7,
   "metadata": {},
   "outputs": [],
   "source": [
    "import matplotlib.pyplot as plt"
   ]
  },
  {
   "cell_type": "code",
   "execution_count": 8,
   "metadata": {},
   "outputs": [
    {
     "data": {
      "text/plain": [
       "[<matplotlib.lines.Line2D at 0x261b472b148>]"
      ]
     },
     "execution_count": 8,
     "metadata": {},
     "output_type": "execute_result"
    },
    {
     "data": {
      "image/png": "[encoded data removed]",
      "text/plain": [
       "<Figure size 432x288 with 1 Axes>"
      ]
     },
     "metadata": {
      "needs_background": "light"
     },
     "output_type": "display_data"
    }
   ],
   "source": [
    "plt.plot(data_store[\"No. Of Customers\"], data_store[\"Weekly Sales\"], \"bo\")"
   ]
  },
  {
   "cell_type": "markdown",
   "metadata": {},
   "source": [
    "In the scatter chart we saw that there is a positive correlation between the data pairs, but to be sure, let's look at a correlation matrix:"
   ]
  },
  {
   "cell_type": "code",
   "execution_count": 9,
   "metadata": {},
   "outputs": [
    {
     "data": {
      "text/html": [
       "<div>\n",
       "<style scoped>\n",
       "    .dataframe tbody tr th:only-of-type {\n",
       "        vertical-align: middle;\n",
       "    }\n",
       "\n",
       "    .dataframe tbody tr th {\n",
       "        vertical-align: top;\n",
       "    }\n",
       "\n",
       "    .dataframe thead th {\n",
       "        text-align: right;\n",
       "    }\n",
       "</style>\n",
       "<table border=\"1\" class=\"dataframe\">\n",
       "  <thead>\n",
       "    <tr style=\"text-align: right;\">\n",
       "      <th></th>\n",
       "      <th>No. Of Customers</th>\n",
       "      <th>Weekly Sales</th>\n",
       "    </tr>\n",
       "  </thead>\n",
       "  <tbody>\n",
       "    <tr>\n",
       "      <td>No. Of Customers</td>\n",
       "      <td>1.000000</td>\n",
       "      <td>0.940361</td>\n",
       "    </tr>\n",
       "    <tr>\n",
       "      <td>Weekly Sales</td>\n",
       "      <td>0.940361</td>\n",
       "      <td>1.000000</td>\n",
       "    </tr>\n",
       "  </tbody>\n",
       "</table>\n",
       "</div>"
      ],
      "text/plain": [
       "                  No. Of Customers  Weekly Sales\n",
       "No. Of Customers          1.000000      0.940361\n",
       "Weekly Sales              0.940361      1.000000"
      ]
     },
     "execution_count": 9,
     "metadata": {},
     "output_type": "execute_result"
    }
   ],
   "source": [
    "data_store.corr()"
   ]
  },
  {
   "cell_type": "markdown",
   "metadata": {},
   "source": [
    "In the previous correlation matrix, we saw that according to the correlation coefficient 0.94 there is a strong positive \n",
    "linear relationship between the number of customers that enter our store and the value of sales."
   ]
  },
  {
   "cell_type": "markdown",
   "metadata": {},
   "source": [
    "Knowing that there is a correlation between the number of customers and sales, now let's build a linear regression model that allows us to predict the value of sales that we will obtain if 600 customers enter our store."
   ]
  },
  {
   "cell_type": "code",
   "execution_count": 15,
   "metadata": {},
   "outputs": [],
   "source": [
    "import pandas as pd\n",
    "import numpy as np\n",
    "import statsmodels.api as sm \n",
    "import statsmodels.formula.api as smf"
   ]
  },
  {
   "cell_type": "code",
   "execution_count": 16,
   "metadata": {},
   "outputs": [],
   "source": [
    "X = data_store[['No. Of Customers']] \n",
    "Y = data_store['Weekly Sales']\n",
    "\n",
    "X = sm.add_constant(X)\n",
    "\n",
    "model = sm.OLS(Y, X).fit()\n",
    "predictions = model.predict(X) \n",
    "\n",
    "print_model = model.summary()"
   ]
  },
  {
   "cell_type": "code",
   "execution_count": 14,
   "metadata": {},
   "outputs": [
    {
     "name": "stdout",
     "output_type": "stream",
     "text": [
      "                            OLS Regression Results                            \n",
      "==============================================================================\n",
      "Dep. Variable:           Weekly Sales   R-squared:                       0.884\n",
      "Model:                            OLS   Adj. R-squared:                  0.881\n",
      "Method:                 Least Squares   F-statistic:                     259.8\n",
      "Date:                Wed, 18 Nov 2020   Prob (F-statistic):           1.72e-17\n",
      "Time:                        14:59:01   Log-Likelihood:                -272.48\n",
      "No. Observations:                  36   AIC:                             549.0\n",
      "Df Residuals:                      34   BIC:                             552.1\n",
      "Df Model:                           1                                         \n",
      "Covariance Type:            nonrobust                                         \n",
      "====================================================================================\n",
      "                       coef    std err          t      P>|t|      [0.025      0.975]\n",
      "------------------------------------------------------------------------------------\n",
      "const             -493.6963    170.192     -2.901      0.006    -839.569    -147.824\n",
      "No. Of Customers     9.6517      0.599     16.119      0.000       8.435      10.869\n",
      "==============================================================================\n",
      "Omnibus:                       11.134   Durbin-Watson:                   0.696\n",
      "Prob(Omnibus):                  0.004   Jarque-Bera (JB):               11.683\n",
      "Skew:                          -0.961   Prob(JB):                      0.00290\n",
      "Kurtosis:                       5.023   Cond. No.                         602.\n",
      "==============================================================================\n",
      "\n",
      "Warnings:\n",
      "[1] Standard Errors assume that the covariance matrix of the errors is correctly specified.\n"
     ]
    }
   ],
   "source": [
    "print(print_model)"
   ]
  },
  {
   "cell_type": "markdown",
   "metadata": {},
   "source": [
    "Reasons to claim that this model works:\n",
    "\n",
    "We see that the coefficient of determination is 0.884, that means that 88,4% of the variation in weekly sales is explained in variation of number of customers, which we can consider a good fit to the model. \n",
    "We have a very small p-value, which is less than 0.05 we can conclude that the number of customers is a significant linear predictor. \n",
    "At 95% level of confidence, the confidence interval for the slope is (8.435, 10.869), we are 95% confident that the average impact on weekly sales is between $8.435 and $10.869 per customer.\n",
    "This 95% confidence interval does not include 0. There is a significant relationship between weekly sales and number of customers at the 0.05 level of significance.\n",
    "For 34 degrees of freedom the t-critical is 2,030 and we saw that t-stat is 16.119, which means that there is sufficient evidence that number of customers affects weekly sales.\n",
    "We can affirm that our model is good and now we are going to predict the sales when 600 customers enter in our store."
   ]
  },
  {
   "cell_type": "code",
   "execution_count": null,
   "metadata": {},
   "outputs": [],
   "source": [
    "y = -493.6963 + 9.6517 (customers)\n",
    "Weekly sales = -493.6963 + 9.6517 (600)"
   ]
  },
  {
   "cell_type": "code",
   "execution_count": 39,
   "metadata": {},
   "outputs": [
    {
     "data": {
      "text/plain": [
       "5297.3237"
      ]
     },
     "execution_count": 39,
     "metadata": {},
     "output_type": "execute_result"
    }
   ],
   "source": [
    "-493.6963+9.6517*600"
   ]
  },
  {
   "cell_type": "markdown",
   "metadata": {},
   "source": [
    "If we get 600 customers to enter our store during one week, we will be able to obtain sales \n",
    "of approximately $5297,3237 during that week."
   ]
  }
 ],
 "metadata": {
  "kernelspec": {
   "display_name": "Python 3",
   "language": "python",
   "name": "python3"
  },
  "language_info": {
   "codemirror_mode": {
    "name": "ipython",
    "version": 3
   },
   "file_extension": ".py",
   "mimetype": "text/x-python",
   "name": "python",
   "nbconvert_exporter": "python",
   "pygments_lexer": "ipython3",
   "version": "3.7.4"
  }
 },
 "nbformat": 4,
 "nbformat_minor": 2
}
